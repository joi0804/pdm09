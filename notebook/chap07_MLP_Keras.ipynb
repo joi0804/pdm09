{
  "nbformat": 4,
  "nbformat_minor": 0,
  "metadata": {
    "colab": {
      "provenance": [],
      "collapsed_sections": [],
      "include_colab_link": true
    },
    "kernelspec": {
      "name": "python3",
      "display_name": "Python 3"
    },
    "language_info": {
      "name": "python"
    },
    "accelerator": "GPU"
  },
  "cells": [
    {
      "cell_type": "markdown",
      "metadata": {
        "id": "view-in-github",
        "colab_type": "text"
      },
      "source": [
        "<a href=\"https://colab.research.google.com/github/joi0804/pdm09/blob/main/notebook/chap07_MLP_Keras.ipynb\" target=\"_parent\"><img src=\"https://colab.research.google.com/assets/colab-badge.svg\" alt=\"Open In Colab\"/></a>"
      ]
    },
    {
      "cell_type": "markdown",
      "source": [
        "# MLP: Keras"
      ],
      "metadata": {
        "id": "ojKdNQSc6G2I"
      }
    },
    {
      "cell_type": "markdown",
      "source": [
        "## mini-batch 구현"
      ],
      "metadata": {
        "id": "Cqxjbj3S6PkI"
      }
    },
    {
      "cell_type": "code",
      "execution_count": null,
      "metadata": {
        "colab": {
          "base_uri": "https://localhost:8080/"
        },
        "id": "cEVL9aSt6BGk",
        "outputId": "3f75d246-2dfb-451d-c6bc-97a8ec7bb9a1"
      },
      "outputs": [
        {
          "output_type": "stream",
          "name": "stdout",
          "text": [
            "(60000, 28, 28) (60000,)\n",
            "[5 0 4 1 9 2 1 3 1 4]\n",
            "(10000, 28, 28) (10000,)\n",
            "[7 2 1 0 4 1 4 9 5 9]\n",
            "[46653 20013 20623 48901 58720  5106  8745 39478  9412 42242  1100 44875]\n"
          ]
        },
        {
          "output_type": "execute_result",
          "data": {
            "text/plain": [
              "((12, 28, 28), (12,))"
            ]
          },
          "metadata": {},
          "execution_count": 2
        }
      ],
      "source": [
        "import numpy as np\n",
        "import tensorflow as tf\n",
        "\n",
        "# 데이터를 학습 데이터와 테스트 데이터로 나눈다. \n",
        "(x_train, y_train), (x_test, y_test) = tf.keras.datasets.mnist.load_data()\n",
        "\n",
        "print(x_train.shape,y_train.shape)\n",
        "print(y_train[:10])\n",
        "print(x_test.shape,y_test.shape)\n",
        "print(y_test[:10])\n",
        "\n",
        "data_size = x_train.shape[0]\n",
        "batch_size = 12\t# 배치 크기\n",
        "\n",
        "selected = np.random.choice(data_size, batch_size)\n",
        "print(selected)\n",
        "x_batch = x_train[selected]\n",
        "y_batch = y_train[selected]\n",
        "x_batch.shape,y_batch.shape\n"
      ]
    },
    {
      "cell_type": "markdown",
      "source": [
        "## mini-batch: XOR using MLP"
      ],
      "metadata": {
        "id": "3aVYISCg7YQw"
      }
    },
    {
      "cell_type": "code",
      "source": [
        "import numpy as np\n",
        "# XOR solution by MLP\n",
        "\n",
        "# 시그모이드 함수\n",
        "def actf(x):\n",
        "\treturn 1/(1+np.exp(-x))\n",
        "\n",
        "# 시그모이드 함수의 미분치\n",
        "def actf_deriv(x):\n",
        "\t    return x*(1-x)\n",
        "\n",
        "# 입력유닛의 개수, 은닉유닛의 개수, 출력유닛의 개수\n",
        "inputs, hiddens, outputs = 2, 2, 1\n",
        "learning_rate = 0.5\n",
        "\n",
        "# 훈련 입력과 출력\n",
        "X = np.array([[0, 0], [0, 1], [1, 0], [1, 1]])\n",
        "T = np.array([[0], [1], [1], [0]])\n",
        "\n",
        "# 가중치를 –1.0에서 1.0 사이의 난수로 초기화한다.\n",
        "W1 = 2*np.random.random((inputs, hiddens))-1   \n",
        "W2 = 2*np.random.random((hiddens, outputs))-1  \n",
        "B1 = np.zeros(hiddens)   \n",
        "B2 = np.zeros(outputs)   \n",
        "\n",
        "# 순방향 전파 계산\n",
        "def predict(x):\n",
        "        layer0 = x\t\t\t# 입력을 layer0에 대입한다. \n",
        "        Z1 = np.dot(layer0, W1)+B1\t# 행렬의 곱을 계산한다. \n",
        "        layer1 = actf(Z1)\t\t# 활성화 함수를 적용한다. \n",
        "        Z2 = np.dot(layer1, W2)+B2\t# 행렬의 곱을 계산한다. \n",
        "        layer2 = actf(Z2)\t\t# 활성화 함수를 적용한다. \n",
        "        return layer0, layer1, layer2\n",
        "    \n",
        "# 역방향 전파 계산\n",
        "def fit():\n",
        "    global W1, W2, B1, B2\n",
        "    for i in range(60000):\n",
        "            layer0, layer1, layer2 = predict(X) # input-batch-size = 4\n",
        "            layer2_error = layer2-T\n",
        "\n",
        "            layer2_delta = layer2_error*actf_deriv(layer2)\n",
        "            layer1_error = np.dot(layer2_delta, W2.T)\n",
        "            layer1_delta = layer1_error*actf_deriv(layer1)\n",
        "            \n",
        "            W2 += -learning_rate*np.dot(layer1.T, layer2_delta)/4.0 # 4개의 입력에 대한 평균 기울기\n",
        "            W1 += -learning_rate*np.dot(layer0.T, layer1_delta)/4.0\n",
        "            B2 += -learning_rate*np.sum(layer2_delta, axis=0)/4.0\n",
        "            B1 += -learning_rate*np.sum(layer1_delta, axis=0)/4.0\n",
        "\n",
        "def test():\n",
        "    for x, y in zip(X, T):\n",
        "        x = np.reshape(x, (1, -1))\t\t# 하나여도 2차원 형태이어야 한다.\n",
        "        layer0, layer1, layer2 = predict(x)\n",
        "        print(x, y, layer2)\n",
        "\n",
        "fit()\n",
        "test()\n",
        "W1,W2\n",
        "B1,B2\n"
      ],
      "metadata": {
        "colab": {
          "base_uri": "https://localhost:8080/"
        },
        "id": "gV0PVXPJ7dW5",
        "outputId": "6da7de05-922b-4f76-e9b3-1acff1428039"
      },
      "execution_count": null,
      "outputs": [
        {
          "output_type": "stream",
          "name": "stdout",
          "text": [
            "[[0 0]] [0] [[0.01359617]]\n",
            "[[0 1]] [1] [[0.98757219]]\n",
            "[[1 0]] [1] [[0.49960863]]\n",
            "[[1 1]] [0] [[0.50029576]]\n"
          ]
        },
        {
          "output_type": "execute_result",
          "data": {
            "text/plain": [
              "(array([-0.92725585,  3.21677321]), array([0.14577521]))"
            ]
          },
          "metadata": {},
          "execution_count": 3
        }
      ]
    },
    {
      "cell_type": "markdown",
      "source": [
        "---\n",
        "# Tensorflow-Keras\n",
        "---"
      ],
      "metadata": {
        "id": "nZZ2gO8V6odc"
      }
    },
    {
      "cell_type": "markdown",
      "source": [
        "## MLP XOR using Keras\n",
        "- 1-은닉층\n",
        "- 2-은닉층"
      ],
      "metadata": {
        "id": "pseC7bTW62aL"
      }
    },
    {
      "cell_type": "code",
      "source": [
        "import numpy as np\n",
        "import tensorflow as tf\n",
        "\n",
        "model = tf.keras.models.Sequential()\n",
        "\n",
        "model.add(tf.keras.layers.Dense(units=2, input_shape=(2,), activation='sigmoid')) #①\n",
        "model.add(tf.keras.layers.Dense(units=1,  activation='sigmoid')) #②\t\t\n",
        "model.compile(loss='mean_squared_error', \n",
        "              optimizer=tf.keras.optimizers.SGD(lr=0.3)) \n",
        "\n",
        "model.summary()\n",
        " \n",
        "X = np.array([[0, 0],[0, 1],[1, 0],[1, 1]])\n",
        "y = np.array([[0], [1], [1], [0]])\n",
        "\n",
        "model.fit(X, y, batch_size=1, epochs=10000, verbose=2)\n",
        "\n",
        "print(model.predict(X))\n",
        "\n",
        "# [[0.0156148 ]\n",
        "#  [0.98538893]\n",
        "#  [0.9820687 ]\n",
        "#  [0.01398213]]"
      ],
      "metadata": {
        "id": "tAe9Fptu7H3U"
      },
      "execution_count": null,
      "outputs": []
    },
    {
      "cell_type": "code",
      "source": [
        "# 2-은닉층\n",
        "import numpy as np\n",
        "import tensorflow as tf\n",
        "\n",
        "model = tf.keras.models.Sequential()\n",
        "\n",
        "model.add(tf.keras.layers.Dense(units=2, input_shape=(2,), activation='sigmoid')) #①\n",
        "model.add(tf.keras.layers.Dense(units=4, activation='sigmoid')) #\n",
        "model.add(tf.keras.layers.Dense(units=1,  activation='sigmoid')) #\t\t\n",
        "model.compile(loss='mean_squared_error', \n",
        "              optimizer=tf.keras.optimizers.SGD(lr=0.3)) \n",
        "\n",
        "model.summary()\n",
        "\n",
        "X = np.array([[0, 0],[0, 1],[1, 0],[1, 1]])\n",
        "y = np.array([[0], [1], [1], [0]])\n",
        "\n",
        "model.fit(X, y, batch_size=1, epochs=10000, verbose=0)\n",
        "\n",
        "print(model.predict(X))\n",
        "\n",
        "# [[0.00956685]\n",
        "#  [0.9900732 ]\n",
        "#  [0.9919224 ]\n",
        "#  [0.00822851]]"
      ],
      "metadata": {
        "id": "rkOoS_pN9L2r",
        "outputId": "12aa76f1-12b4-426c-c79c-944a7730678a",
        "colab": {
          "base_uri": "https://localhost:8080/"
        }
      },
      "execution_count": null,
      "outputs": [
        {
          "output_type": "stream",
          "name": "stdout",
          "text": [
            "Model: \"sequential_1\"\n",
            "_________________________________________________________________\n",
            " Layer (type)                Output Shape              Param #   \n",
            "=================================================================\n",
            " dense_2 (Dense)             (None, 2)                 6         \n",
            "                                                                 \n",
            " dense_3 (Dense)             (None, 4)                 12        \n",
            "                                                                 \n",
            " dense_4 (Dense)             (None, 1)                 5         \n",
            "                                                                 \n",
            "=================================================================\n",
            "Total params: 23\n",
            "Trainable params: 23\n",
            "Non-trainable params: 0\n",
            "_________________________________________________________________\n"
          ]
        },
        {
          "output_type": "stream",
          "name": "stderr",
          "text": [
            "/usr/local/lib/python3.7/dist-packages/keras/optimizer_v2/gradient_descent.py:102: UserWarning: The `lr` argument is deprecated, use `learning_rate` instead.\n",
            "  super(SGD, self).__init__(name, **kwargs)\n"
          ]
        },
        {
          "output_type": "stream",
          "name": "stdout",
          "text": [
            "[[0.00884689]\n",
            " [0.9891495 ]\n",
            " [0.9886375 ]\n",
            " [0.00767751]]\n"
          ]
        }
      ]
    },
    {
      "cell_type": "markdown",
      "source": [
        "## Mnist model using Keras\n",
        "1. Sequential model\n",
        "2. Functional model\n",
        "3. Subclassing model\n"
      ],
      "metadata": {
        "id": "qq3TTSfA9749"
      }
    },
    {
      "cell_type": "markdown",
      "source": [
        "### Data loading\n"
      ],
      "metadata": {
        "id": "KJZSwc3g-Owy"
      }
    },
    {
      "cell_type": "code",
      "source": [
        "import matplotlib.pyplot as plt\n",
        "import tensorflow as tf\n",
        "from tensorflow.keras import layers\n",
        "from tensorflow.keras import models\n",
        "import numpy as np\n",
        "\n",
        "(train_images, train_labels), (test_images, test_labels)\t= tf.keras.datasets.mnist.load_data()\n",
        "\n",
        "print(train_images.shape)\n",
        "\n",
        "print(train_labels)\n",
        "print(test_images.shape)\n",
        "\n",
        "plt.imshow(train_images[0], cmap=\"Greys\")\n",
        "plt.show()"
      ],
      "metadata": {
        "id": "48PfByL5-esz",
        "outputId": "b39f282c-a30e-4e0f-8c23-1690be366203",
        "colab": {
          "base_uri": "https://localhost:8080/",
          "height": 375
        }
      },
      "execution_count": 8,
      "outputs": [
        {
          "output_type": "stream",
          "name": "stdout",
          "text": [
            "Downloading data from https://storage.googleapis.com/tensorflow/tf-keras-datasets/mnist.npz\n",
            "11493376/11490434 [==============================] - 0s 0us/step\n",
            "11501568/11490434 [==============================] - 0s 0us/step\n",
            "(60000, 28, 28)\n",
            "[5 0 4 ... 5 6 8]\n",
            "(10000, 28, 28)\n"
          ]
        },
        {
          "output_type": "display_data",
          "data": {
            "text/plain": [
              "<Figure size 432x288 with 1 Axes>"
            ],
            "image/png": "[encoded data removed]"
          },
          "metadata": {
            "needs_background": "light"
          }
        }
      ]
    },
    {
      "cell_type": "markdown",
      "source": [
        "### Data preprocessing\n",
        "- Reshape\n",
        "- Normalization\n",
        "- One-hot encoding"
      ],
      "metadata": {
        "id": "BwVe-VJw-9lb"
      }
    },
    {
      "cell_type": "code",
      "source": [
        "#\n",
        "# dataset: train, test\n",
        "#\n",
        "train_images = train_images.reshape((60000, 784))\n",
        "train_images = train_images.astype('float32') / 255.0\n",
        "\n",
        "test_images = test_images.reshape((10000, 784))\n",
        "test_images = test_images.astype('float32') / 255.0\n",
        "\n",
        "train_labels = tf.keras.utils.to_categorical(train_labels)\n",
        "test_labels = tf.keras.utils.to_categorical(test_labels)\n",
        "\n",
        "print(train_images.shape, train_labels.shape)"
      ],
      "metadata": {
        "id": "6yEVaJrH_IFK",
        "colab": {
          "base_uri": "https://localhost:8080/"
        },
        "outputId": "3295c49b-d7fa-4c1e-9fb0-14dd83709edd"
      },
      "execution_count": 9,
      "outputs": [
        {
          "output_type": "stream",
          "name": "stdout",
          "text": [
            "(60000, 784) (60000, 10)\n"
          ]
        }
      ]
    },
    {
      "cell_type": "markdown",
      "source": [
        "## 1. Sequential model"
      ],
      "metadata": {
        "id": "z6rbc-fR_0A6"
      }
    },
    {
      "cell_type": "code",
      "source": [
        "# Model\n",
        "model = models.Sequential()\n",
        "\n",
        "model.add(layers.Dense(512, activation='relu', input_shape=(784,)))\n",
        "model.add(layers.Dense(10, activation='sigmoid'))\n",
        "\n",
        "model.compile(optimizer='rmsprop',\n",
        "                loss='mse',\n",
        "                metrics=['accuracy']) "
      ],
      "metadata": {
        "id": "op6drVJo_4uq"
      },
      "execution_count": 10,
      "outputs": []
    },
    {
      "cell_type": "code",
      "source": [
        "# Training again with history\n",
        "history = model.fit(train_images, train_labels, epochs=5, batch_size=128, verbose=2)\n",
        "# training graph\n",
        "loss = history.history['loss']\n",
        "acc = history.history['accuracy']\n",
        "epochs = range(1, len(loss)+1)\n",
        "\n",
        "plt.plot(epochs, loss, 'b', label='Training Loss')\n",
        "plt.plot(epochs, acc, 'r', label='Accuracy')\n",
        "plt.xlabel('epochs')\n",
        "plt.ylabel('loss/acc')\n",
        "plt.show()"
      ],
      "metadata": {
        "colab": {
          "base_uri": "https://localhost:8080/",
          "height": 463
        },
        "id": "nkg5e7yjAKEq",
        "outputId": "8ca12c52-3a60-49c5-e638-7b88906e9b6b"
      },
      "execution_count": 11,
      "outputs": [
        {
          "output_type": "stream",
          "name": "stdout",
          "text": [
            "Epoch 1/5\n",
            "469/469 - 4s - loss: 0.0161 - accuracy: 0.9156 - 4s/epoch - 10ms/step\n",
            "Epoch 2/5\n",
            "469/469 - 1s - loss: 0.0063 - accuracy: 0.9654 - 1s/epoch - 2ms/step\n",
            "Epoch 3/5\n",
            "469/469 - 1s - loss: 0.0044 - accuracy: 0.9768 - 1s/epoch - 2ms/step\n",
            "Epoch 4/5\n",
            "469/469 - 1s - loss: 0.0034 - accuracy: 0.9827 - 1s/epoch - 2ms/step\n",
            "Epoch 5/5\n",
            "469/469 - 1s - loss: 0.0028 - accuracy: 0.9860 - 1s/epoch - 2ms/step\n"
          ]
        },
        {
          "output_type": "display_data",
          "data": {
            "text/plain": [
              "<Figure size 432x288 with 1 Axes>"
            ],
            "image/png": "[encoded data removed]"
          },
          "metadata": {
            "needs_background": "light"
          }
        }
      ]
    },
    {
      "cell_type": "code",
      "source": [
        "# test\n",
        "test_loss, test_acc = model.evaluate(test_images, test_labels)\n",
        "print('테스트 정확도:', test_acc)"
      ],
      "metadata": {
        "colab": {
          "base_uri": "https://localhost:8080/"
        },
        "id": "AoR7h3ssBLY6",
        "outputId": "dd984ba9-9466-438c-8440-13e4b5214655"
      },
      "execution_count": 12,
      "outputs": [
        {
          "output_type": "stream",
          "name": "stdout",
          "text": [
            "313/313 [==============================] - 1s 2ms/step - loss: 0.0039 - accuracy: 0.9791\n",
            "테스트 정확도: 0.9790999889373779\n"
          ]
        }
      ]
    },
    {
      "cell_type": "code",
      "source": [
        "# Test with new image\n",
        "import cv2 as cv\n",
        "\n",
        "image = cv.imread('test.png', cv.IMREAD_GRAYSCALE)\n",
        "image = cv.resize(image, (28, 28))\n",
        "image = image.astype('float32')\n",
        "# plt.imshow(image.reshape(28, 28),cmap='Greys')\n",
        "# plt.show()\n",
        "image = image.reshape(1, 784)\n",
        "image = 255-image\n",
        "image /= 255.0\n",
        "\n",
        "plt.imshow(image.reshape(28, 28),cmap='Greys')\n",
        "plt.show()\n",
        "\n",
        "pred = model.predict(image.reshape(1, 784), batch_size=1)\n",
        "print(\"추정된 숫자=\", pred.argmax())\n",
        "print(np.sum(pred))"
      ],
      "metadata": {
        "colab": {
          "base_uri": "https://localhost:8080/",
          "height": 302
        },
        "id": "zZuXbqW0Bq4p",
        "outputId": "18f56351-1999-4fdb-8d43-6022130120b3"
      },
      "execution_count": 15,
      "outputs": [
        {
          "output_type": "display_data",
          "data": {
            "text/plain": [
              "<Figure size 432x288 with 1 Axes>"
            ],
            "image/png": "[encoded data removed]"
          },
          "metadata": {
            "needs_background": "light"
          }
        },
        {
          "output_type": "stream",
          "name": "stdout",
          "text": [
            "추정된 숫자= 2\n",
            "1.4275801\n"
          ]
        }
      ]
    },
    {
      "cell_type": "markdown",
      "source": [
        "## 2. Functional model"
      ],
      "metadata": {
        "id": "qz-hM7LhCEAi"
      }
    },
    {
      "cell_type": "code",
      "source": [
        "#\n",
        "# Model2 - Functional\n",
        "#\n",
        "\n",
        "inputs = layers.Input(shape=(784,))\n",
        "\n",
        "x = layers.Dense(512, activation='relu')(inputs)\n",
        "output = layers.Dense(10, activation='sigmoid')(x)\n",
        "\n",
        "model = models.Model(inputs=inputs, outputs=output)\n",
        "\n",
        "model.compile(optimizer='rmsprop',\n",
        "                loss='mse',\n",
        "                metrics=['accuracy'])   "
      ],
      "metadata": {
        "id": "WeUbQCBcCJNp"
      },
      "execution_count": 16,
      "outputs": []
    },
    {
      "cell_type": "code",
      "source": [
        "# Training  with history\n",
        "history = model.fit(train_images, train_labels, epochs=5, batch_size=128, verbose=2)\n",
        "loss = history.history['loss']\n",
        "acc = history.history['accuracy']\n",
        "epochs = range(1, len(loss)+1)\n",
        "\n",
        "plt.plot(epochs, loss, 'b', label='Training Loss')\n",
        "plt.plot(epochs, acc, 'r', label='Accuracy')\n",
        "plt.xlabel('epochs')\n",
        "plt.ylabel('loss/acc')\n",
        "plt.show()\n",
        "\n",
        "# test\n",
        "test_loss, test_acc = model.evaluate(test_images, test_labels)\n",
        "print('테스트 정확도:', test_acc)"
      ],
      "metadata": {
        "colab": {
          "base_uri": "https://localhost:8080/",
          "height": 499
        },
        "id": "bsCvw5WxCR2h",
        "outputId": "3a08b88e-02ad-4651-ca5d-b42339dc7f8b"
      },
      "execution_count": 17,
      "outputs": [
        {
          "output_type": "stream",
          "name": "stdout",
          "text": [
            "Epoch 1/5\n",
            "469/469 - 2s - loss: 0.0161 - accuracy: 0.9159 - 2s/epoch - 3ms/step\n",
            "Epoch 2/5\n",
            "469/469 - 1s - loss: 0.0064 - accuracy: 0.9652 - 1s/epoch - 3ms/step\n",
            "Epoch 3/5\n",
            "469/469 - 1s - loss: 0.0044 - accuracy: 0.9767 - 1s/epoch - 2ms/step\n",
            "Epoch 4/5\n",
            "469/469 - 1s - loss: 0.0034 - accuracy: 0.9824 - 1s/epoch - 3ms/step\n",
            "Epoch 5/5\n",
            "469/469 - 1s - loss: 0.0028 - accuracy: 0.9865 - 1s/epoch - 3ms/step\n"
          ]
        },
        {
          "output_type": "display_data",
          "data": {
            "text/plain": [
              "<Figure size 432x288 with 1 Axes>"
            ],
            "image/png": "[encoded data removed]"
          },
          "metadata": {
            "needs_background": "light"
          }
        },
        {
          "output_type": "stream",
          "name": "stdout",
          "text": [
            "313/313 [==============================] - 1s 2ms/step - loss: 0.0040 - accuracy: 0.9785\n",
            "테스트 정확도: 0.9785000085830688\n"
          ]
        }
      ]
    },
    {
      "cell_type": "markdown",
      "source": [
        "## 3. Subclassing model"
      ],
      "metadata": {
        "id": "xmqhk8DgClIZ"
      }
    },
    {
      "cell_type": "code",
      "source": [
        "#\n",
        "# Model3 - Class\n",
        "#\n",
        "class MnistMLP(models.Model):\n",
        "    \n",
        "    def __init__(self, num_classes):\n",
        "        super(MnistMLP, self).__init__(name='mlp')\n",
        "        self.num_classes = num_classes\n",
        "        \n",
        "        self.dense1 = layers.Dense(512, activation='relu')\n",
        "        self.dense2 = layers.Dense(10, activation='softmax')\n",
        "        \n",
        "    def call(self, inputs):\n",
        "        x = self.dense1(inputs)\n",
        "        return self.dense2(x)\n",
        "    \n",
        "# model\n",
        "model = MnistMLP(num_classes=10)\n",
        "\n",
        "model.compile(optimizer='rmsprop',\n",
        "                loss='mse',\n",
        "                metrics=['accuracy'])  "
      ],
      "metadata": {
        "id": "dZqTsmumCrmj"
      },
      "execution_count": 18,
      "outputs": []
    },
    {
      "cell_type": "code",
      "source": [
        "# Training with history\n",
        "history = model.fit(train_images, train_labels, epochs=5, batch_size=128, verbose=2)\n",
        "loss = history.history['loss']\n",
        "acc = history.history['accuracy']\n",
        "epochs = range(1, len(loss)+1)\n",
        "\n",
        "plt.plot(epochs, loss, 'b', label='Training Loss')\n",
        "plt.plot(epochs, acc, 'r', label='Accuracy')\n",
        "plt.xlabel('epochs')\n",
        "plt.ylabel('loss/acc')\n",
        "plt.show()\n",
        "\n",
        "# test\n",
        "test_loss, test_acc = model.evaluate(test_images, test_labels)\n",
        "print('테스트 정확도:', test_acc)"
      ],
      "metadata": {
        "colab": {
          "base_uri": "https://localhost:8080/",
          "height": 499
        },
        "id": "uG8tLd00C5yJ",
        "outputId": "a0d34739-ebe2-4139-b174-f6795a9b14eb"
      },
      "execution_count": 19,
      "outputs": [
        {
          "output_type": "stream",
          "name": "stdout",
          "text": [
            "Epoch 1/5\n",
            "469/469 - 2s - loss: 0.0121 - accuracy: 0.9215 - 2s/epoch - 3ms/step\n",
            "Epoch 2/5\n",
            "469/469 - 1s - loss: 0.0053 - accuracy: 0.9669 - 1s/epoch - 3ms/step\n",
            "Epoch 3/5\n",
            "469/469 - 1s - loss: 0.0037 - accuracy: 0.9769 - 1s/epoch - 3ms/step\n",
            "Epoch 4/5\n",
            "469/469 - 1s - loss: 0.0028 - accuracy: 0.9829 - 1s/epoch - 3ms/step\n",
            "Epoch 5/5\n",
            "469/469 - 1s - loss: 0.0022 - accuracy: 0.9869 - 1s/epoch - 3ms/step\n"
          ]
        },
        {
          "output_type": "display_data",
          "data": {
            "text/plain": [
              "<Figure size 432x288 with 1 Axes>"
            ],
            "image/png": "[encoded data removed]"
          },
          "metadata": {
            "needs_background": "light"
          }
        },
        {
          "output_type": "stream",
          "name": "stdout",
          "text": [
            "313/313 [==============================] - 1s 2ms/step - loss: 0.0035 - accuracy: 0.9771\n",
            "테스트 정확도: 0.9771000146865845\n"
          ]
        }
      ]
    },
    {
      "cell_type": "markdown",
      "source": [
        "---\n",
        "# Hyperparameter search\n",
        "- Grid search\n",
        "---"
      ],
      "metadata": {
        "id": "aSkUTMNPDNyw"
      }
    },
    {
      "cell_type": "code",
      "source": [
        "!pip install scikeras"
      ],
      "metadata": {
        "colab": {
          "base_uri": "https://localhost:8080/"
        },
        "id": "fccHja8nDpdR",
        "outputId": "45a2d3b3-45ea-4497-8f46-0c7f0f0c608b"
      },
      "execution_count": 21,
      "outputs": [
        {
          "output_type": "stream",
          "name": "stdout",
          "text": [
            "Looking in indexes: https://pypi.org/simple, https://us-python.pkg.dev/colab-wheels/public/simple/\n",
            "Collecting scikeras\n",
            "  Downloading scikeras-0.9.0-py3-none-any.whl (27 kB)\n",
            "Requirement already satisfied: scikit-learn>=1.0.0 in /usr/local/lib/python3.7/dist-packages (from scikeras) (1.0.2)\n",
            "Requirement already satisfied: importlib-metadata>=3 in /usr/local/lib/python3.7/dist-packages (from scikeras) (5.0.0)\n",
            "Requirement already satisfied: packaging>=0.21 in /usr/local/lib/python3.7/dist-packages (from scikeras) (21.3)\n",
            "Requirement already satisfied: typing-extensions>=3.6.4 in /usr/local/lib/python3.7/dist-packages (from importlib-metadata>=3->scikeras) (4.1.1)\n",
            "Requirement already satisfied: zipp>=0.5 in /usr/local/lib/python3.7/dist-packages (from importlib-metadata>=3->scikeras) (3.8.1)\n",
            "Requirement already satisfied: pyparsing!=3.0.5,>=2.0.2 in /usr/local/lib/python3.7/dist-packages (from packaging>=0.21->scikeras) (3.0.9)\n",
            "Requirement already satisfied: scipy>=1.1.0 in /usr/local/lib/python3.7/dist-packages (from scikit-learn>=1.0.0->scikeras) (1.7.3)\n",
            "Requirement already satisfied: numpy>=1.14.6 in /usr/local/lib/python3.7/dist-packages (from scikit-learn>=1.0.0->scikeras) (1.21.6)\n",
            "Requirement already satisfied: joblib>=0.11 in /usr/local/lib/python3.7/dist-packages (from scikit-learn>=1.0.0->scikeras) (1.2.0)\n",
            "Requirement already satisfied: threadpoolctl>=2.0.0 in /usr/local/lib/python3.7/dist-packages (from scikit-learn>=1.0.0->scikeras) (3.1.0)\n",
            "Installing collected packages: scikeras\n",
            "Successfully installed scikeras-0.9.0\n"
          ]
        }
      ]
    },
    {
      "cell_type": "code",
      "source": [
        "# import numpy as np \n",
        "# import matplotlib.pyplot as plt \n",
        "import tensorflow as tf\n",
        "from sklearn.model_selection import GridSearchCV\n",
        "# from tensorflow.keras.wrappers.scikit_learn import KerasClassifier\n",
        "from scikeras.wrappers import KerasClassifier\n",
        "# OS warning cure\n",
        "import os\n",
        "os.environ['TF_CPP_MIN_LOG_LEVEL'] = '3'\n",
        "\n",
        "# 데이터 세트 준비\n",
        "(train_images, train_labels), (test_images, test_labels) = tf.keras.datasets.mnist.load_data()\n",
        "\n",
        "train_images = train_images.reshape((60000, 28 * 28))\n",
        "train_images = train_images.astype('float32') / 255\n",
        "\n",
        "test_images = test_images.reshape((10000, 28 * 28))\n",
        "test_images = test_images.astype('float32') / 255\n",
        "\n",
        "train_labels = tf.keras.utils.to_categorical(train_labels)\n",
        "test_labels = tf.keras.utils.to_categorical(test_labels)\n",
        "                             \n",
        "# 신경망 모델 구축\n",
        "def build_model():\n",
        "    network = tf.keras.models.Sequential()\n",
        "    network.add(tf.keras.layers.Dense(512, activation='relu', input_shape=(28 * 28,)))\n",
        "    network.add(tf.keras.layers.Dense(10, activation='sigmoid'))\n",
        "\n",
        "    network.compile(optimizer='rmsprop',\n",
        "                loss='categorical_crossentropy',\n",
        "                metrics=['accuracy'])\n",
        "    return network\n",
        "\n",
        "# 하이퍼 매개변수 딕셔너리\n",
        "param_grid = {\n",
        "              'epochs':[1, 2, 3],\t# 에포크 수: 1, 2, 3\n",
        "              'batch_size':[32, 64, 100]\t# 배치 크기: 32, 64, 100\n",
        "             }\n",
        "\n",
        "# 케라스 모델을 scikeras에서 사용하도록 포장한다. \n",
        "model = KerasClassifier(model = build_model, verbose=1)\n",
        "\n",
        "## Elapsed time start\n",
        "import time\n",
        "start = time.time()\n",
        "\n",
        "# 그리드 검색\n",
        "gs = GridSearchCV(\n",
        "    estimator=model,\n",
        "    param_grid=param_grid, \n",
        "    cv=3, \n",
        "    # n_jobs=-1 # comment this line to avoid out-of-memory\n",
        ")\n",
        "\n",
        "# 그리드 검색 결과 출력\n",
        "grid_result = gs.fit(train_images, train_labels)\n",
        "\n",
        "## Elapsed time end\n",
        "end = time.time()\n",
        "print('Elapsed time:', end - start) # Elapsed time: 122.5, 189.5\n",
        "\n",
        "print(grid_result.best_score_) # 0.9725, 0.9711\n",
        "print(grid_result.best_params_) # {'batch_size': 64, 'epochs': 3}\n"
      ],
      "metadata": {
        "colab": {
          "base_uri": "https://localhost:8080/"
        },
        "id": "Yp8REjWsDZew",
        "outputId": "f0e00e52-4738-4190-eb54-4daeb57ccf2d"
      },
      "execution_count": 22,
      "outputs": [
        {
          "output_type": "stream",
          "name": "stdout",
          "text": [
            "1250/1250 [==============================] - 6s 5ms/step - loss: 0.2432 - accuracy: 0.9277\n",
            "625/625 [==============================] - 2s 3ms/step\n",
            "1250/1250 [==============================] - 4s 3ms/step - loss: 0.2385 - accuracy: 0.9291\n",
            "625/625 [==============================] - 1s 1ms/step\n",
            "1250/1250 [==============================] - 4s 3ms/step - loss: 0.2343 - accuracy: 0.9303\n",
            "625/625 [==============================] - 1s 1ms/step\n",
            "Epoch 1/2\n",
            "1250/1250 [==============================] - 4s 3ms/step - loss: 0.2414 - accuracy: 0.9279\n",
            "Epoch 2/2\n",
            "1250/1250 [==============================] - 3s 3ms/step - loss: 0.1037 - accuracy: 0.9701\n",
            "625/625 [==============================] - 1s 1ms/step\n",
            "Epoch 1/2\n",
            "1250/1250 [==============================] - 4s 3ms/step - loss: 0.2366 - accuracy: 0.9301\n",
            "Epoch 2/2\n",
            "1250/1250 [==============================] - 3s 3ms/step - loss: 0.1018 - accuracy: 0.9704\n",
            "625/625 [==============================] - 1s 1ms/step\n",
            "Epoch 1/2\n",
            "1250/1250 [==============================] - 4s 3ms/step - loss: 0.2391 - accuracy: 0.9292\n",
            "Epoch 2/2\n",
            "1250/1250 [==============================] - 3s 3ms/step - loss: 0.1038 - accuracy: 0.9700\n",
            "625/625 [==============================] - 1s 1ms/step\n",
            "Epoch 1/3\n",
            "1250/1250 [==============================] - 4s 3ms/step - loss: 0.2434 - accuracy: 0.9279\n",
            "Epoch 2/3\n",
            "1250/1250 [==============================] - 3s 3ms/step - loss: 0.1039 - accuracy: 0.9693\n",
            "Epoch 3/3\n",
            "1250/1250 [==============================] - 3s 3ms/step - loss: 0.0716 - accuracy: 0.9786\n",
            "625/625 [==============================] - 1s 1ms/step\n",
            "Epoch 1/3\n",
            "1250/1250 [==============================] - 4s 3ms/step - loss: 0.2342 - accuracy: 0.9319\n",
            "Epoch 2/3\n",
            "1250/1250 [==============================] - 3s 3ms/step - loss: 0.1034 - accuracy: 0.9696\n",
            "Epoch 3/3\n",
            "1250/1250 [==============================] - 4s 3ms/step - loss: 0.0715 - accuracy: 0.9790\n",
            "625/625 [==============================] - 2s 2ms/step\n",
            "Epoch 1/3\n",
            "1250/1250 [==============================] - 4s 3ms/step - loss: 0.2370 - accuracy: 0.9284\n",
            "Epoch 2/3\n",
            "1250/1250 [==============================] - 3s 3ms/step - loss: 0.1025 - accuracy: 0.9696\n",
            "Epoch 3/3\n",
            "1250/1250 [==============================] - 3s 3ms/step - loss: 0.0690 - accuracy: 0.9803\n",
            "625/625 [==============================] - 1s 1ms/step\n",
            "625/625 [==============================] - 2s 3ms/step - loss: 0.2680 - accuracy: 0.9214\n",
            "313/313 [==============================] - 0s 1ms/step\n",
            "625/625 [==============================] - 2s 3ms/step - loss: 0.2596 - accuracy: 0.9247\n",
            "313/313 [==============================] - 0s 1ms/step\n",
            "625/625 [==============================] - 2s 3ms/step - loss: 0.2631 - accuracy: 0.9235\n",
            "313/313 [==============================] - 1s 2ms/step\n",
            "Epoch 1/2\n",
            "625/625 [==============================] - 3s 4ms/step - loss: 0.2671 - accuracy: 0.9220\n",
            "Epoch 2/2\n",
            "625/625 [==============================] - 2s 3ms/step - loss: 0.1131 - accuracy: 0.9660\n",
            "313/313 [==============================] - 0s 1ms/step\n",
            "Epoch 1/2\n",
            "625/625 [==============================] - 2s 3ms/step - loss: 0.2626 - accuracy: 0.9228\n",
            "Epoch 2/2\n",
            "625/625 [==============================] - 2s 3ms/step - loss: 0.1097 - accuracy: 0.9671\n",
            "313/313 [==============================] - 1s 2ms/step\n",
            "Epoch 1/2\n",
            "625/625 [==============================] - 2s 3ms/step - loss: 0.2646 - accuracy: 0.9227\n",
            "Epoch 2/2\n",
            "625/625 [==============================] - 2s 3ms/step - loss: 0.1106 - accuracy: 0.9673\n",
            "313/313 [==============================] - 0s 1ms/step\n",
            "Epoch 1/3\n",
            "625/625 [==============================] - 2s 3ms/step - loss: 0.2694 - accuracy: 0.9204\n",
            "Epoch 2/3\n",
            "625/625 [==============================] - 2s 3ms/step - loss: 0.1108 - accuracy: 0.9672\n",
            "Epoch 3/3\n",
            "625/625 [==============================] - 2s 3ms/step - loss: 0.0727 - accuracy: 0.9784\n",
            "313/313 [==============================] - 1s 2ms/step\n",
            "Epoch 1/3\n",
            "625/625 [==============================] - 2s 3ms/step - loss: 0.2592 - accuracy: 0.9234\n",
            "Epoch 2/3\n",
            "625/625 [==============================] - 2s 3ms/step - loss: 0.1089 - accuracy: 0.9672\n",
            "Epoch 3/3\n",
            "625/625 [==============================] - 2s 3ms/step - loss: 0.0724 - accuracy: 0.9776\n",
            "313/313 [==============================] - 1s 2ms/step\n",
            "Epoch 1/3\n",
            "625/625 [==============================] - 2s 3ms/step - loss: 0.2660 - accuracy: 0.9224\n",
            "Epoch 2/3\n",
            "625/625 [==============================] - 2s 3ms/step - loss: 0.1081 - accuracy: 0.9678\n",
            "Epoch 3/3\n",
            "625/625 [==============================] - 2s 3ms/step - loss: 0.0707 - accuracy: 0.9780\n",
            "313/313 [==============================] - 1s 2ms/step\n",
            "400/400 [==============================] - 1s 3ms/step - loss: 0.2845 - accuracy: 0.9175\n",
            "200/200 [==============================] - 0s 1ms/step\n",
            "400/400 [==============================] - 1s 3ms/step - loss: 0.2841 - accuracy: 0.9174\n",
            "200/200 [==============================] - 0s 2ms/step\n",
            "400/400 [==============================] - 1s 3ms/step - loss: 0.2908 - accuracy: 0.9150\n",
            "200/200 [==============================] - 0s 2ms/step\n",
            "Epoch 1/2\n",
            "400/400 [==============================] - 1s 3ms/step - loss: 0.2867 - accuracy: 0.9158\n",
            "Epoch 2/2\n",
            "400/400 [==============================] - 1s 3ms/step - loss: 0.1214 - accuracy: 0.9638\n",
            "200/200 [==============================] - 0s 2ms/step\n",
            "Epoch 1/2\n",
            "400/400 [==============================] - 1s 3ms/step - loss: 0.2894 - accuracy: 0.9163\n",
            "Epoch 2/2\n",
            "400/400 [==============================] - 1s 3ms/step - loss: 0.1223 - accuracy: 0.9642\n",
            "200/200 [==============================] - 0s 2ms/step\n",
            "Epoch 1/2\n",
            "400/400 [==============================] - 1s 3ms/step - loss: 0.2962 - accuracy: 0.9140\n",
            "Epoch 2/2\n",
            "400/400 [==============================] - 1s 3ms/step - loss: 0.1214 - accuracy: 0.9634\n",
            "200/200 [==============================] - 0s 2ms/step\n",
            "Epoch 1/3\n",
            "400/400 [==============================] - 2s 3ms/step - loss: 0.2870 - accuracy: 0.9162\n",
            "Epoch 2/3\n",
            "400/400 [==============================] - 1s 3ms/step - loss: 0.1219 - accuracy: 0.9636\n",
            "Epoch 3/3\n",
            "400/400 [==============================] - 1s 3ms/step - loss: 0.0807 - accuracy: 0.9748\n",
            "200/200 [==============================] - 0s 2ms/step\n",
            "Epoch 1/3\n",
            "400/400 [==============================] - 1s 3ms/step - loss: 0.2931 - accuracy: 0.9154\n",
            "Epoch 2/3\n",
            "400/400 [==============================] - 1s 3ms/step - loss: 0.1211 - accuracy: 0.9650\n",
            "Epoch 3/3\n",
            "400/400 [==============================] - 1s 3ms/step - loss: 0.0791 - accuracy: 0.9760\n",
            "200/200 [==============================] - 0s 2ms/step\n",
            "Epoch 1/3\n",
            "400/400 [==============================] - 1s 3ms/step - loss: 0.2874 - accuracy: 0.9165\n",
            "Epoch 2/3\n",
            "400/400 [==============================] - 1s 3ms/step - loss: 0.1175 - accuracy: 0.9645\n",
            "Epoch 3/3\n",
            "400/400 [==============================] - 1s 3ms/step - loss: 0.0761 - accuracy: 0.9775\n",
            "200/200 [==============================] - 0s 2ms/step\n",
            "Epoch 1/3\n",
            "600/600 [==============================] - 2s 3ms/step - loss: 0.2428 - accuracy: 0.9294\n",
            "Epoch 2/3\n",
            "600/600 [==============================] - 2s 3ms/step - loss: 0.0985 - accuracy: 0.9707\n",
            "Epoch 3/3\n",
            "600/600 [==============================] - 2s 3ms/step - loss: 0.0662 - accuracy: 0.9803\n",
            "Elapsed time: 179.07307362556458\n",
            "0.9705333333333334\n",
            "{'batch_size': 100, 'epochs': 3}\n"
          ]
        }
      ]
    }
  ]
}